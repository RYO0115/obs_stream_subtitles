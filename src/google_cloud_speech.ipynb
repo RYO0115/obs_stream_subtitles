{
 "cells": [
  {
   "cell_type": "markdown",
   "metadata": {},
   "source": [
    "# Stream Subtitles with Google Cloud Speech API"
   ]
  },
  {
   "cell_type": "markdown",
   "metadata": {},
   "source": [
    "## Google Speech-to-Text Python Library Installation\n",
    "\n",
    "You need to configure some information before using this API.\n",
    "\n",
    "Look [here](https://cloud.google.com/speech-to-text/docs/transcribe-client-libraries#client-libraries-install-python)\n",
    "\n",
    "If you are Japanese, there is a detailed explanation in my [page](https://ryo-udon.hatenadiary.jp/)\n",
    "\n",
    "日本人の方は[こちらのブログ](https://ryo-udon.hatenadiary.jp/)に日本語の説明を載せているので確認してください。\n",
    "\n",
    "\n",
    "Python Library can be installed with pip.\n",
    "\n",
    "    pip install --upgrade google-cloud-speech\n"
   ]
  },
  {
   "cell_type": "code",
   "execution_count": 1,
   "metadata": {},
   "outputs": [],
   "source": [
    "from google.cloud import speech\n",
    "\n",
    "client = speech.SpeechClient()"
   ]
  },
  {
   "cell_type": "code",
   "execution_count": 4,
   "metadata": {},
   "outputs": [
    {
     "name": "stdout",
     "output_type": "stream",
     "text": [
      "Transcript: how old is the Brooklyn Bridge\n"
     ]
    }
   ],
   "source": [
    "# Sample code in introduction page\n",
    "gcs_uri = \"gs://cloud-samples-data/speech/brooklyn_bridge.raw\"\n",
    "\n",
    "audio = speech.RecognitionAudio(uri=gcs_uri)\n",
    "\n",
    "config = speech.RecognitionConfig(\n",
    "    encoding=speech.RecognitionConfig.AudioEncoding.LINEAR16,\n",
    "    sample_rate_hertz=16000,\n",
    "    language_code=\"en-US\"\n",
    ")\n",
    "\n",
    "response = client.recognize(config=config, audio=audio)\n",
    "\n",
    "for result in response.results:\n",
    "    print(\"Transcript: {}\".format(result.alternatives[0].transcript))"
   ]
  },
  {
   "cell_type": "markdown",
   "metadata": {},
   "source": [
    "## Install PyAudio\n",
    "\n",
    "### Windows\n",
    "\n",
    "    python -m pip install pyaudio\n",
    "\n",
    "### Mac\n",
    "\n",
    "    brew install portaudio\n",
    "\n",
    "    pip install pyaudio\n",
    "\n",
    "### Linux\n",
    "\n",
    "    suod apt install python3-pyaudio"
   ]
  },
  {
   "cell_type": "markdown",
   "metadata": {},
   "source": [
    "### PyAudio Check\n",
    "\n",
    "**Caution**\n",
    "\n",
    "This code will publish **SOOO MANY** Graphs. Be careful.\n",
    "\n",
    "Press Alt+Delete to clear outputs."
   ]
  },
  {
   "cell_type": "code",
   "execution_count": null,
   "metadata": {},
   "outputs": [],
   "source": [
    "import pyaudio\n",
    "import matplotlib.pyplot as plt\n",
    "import numpy as np\n",
    "\n",
    "MIKE_AUDIO_FORMAT = pyaudio.paInt16\n",
    "MIKE_AUDIO_RATE = 44100\n",
    "MIKE_AUDIO_CHANNEL = 1\n",
    "MIKE_AUDIO_BUFFER_SIZE = 2**11\n",
    "MIKE_AUDIO_DEVICE_INDEX = 1\n",
    "\n",
    "def GrabAudio():\n",
    "    audio = pyaudio.PyAudio()\n",
    "    stream = audio.open(format = MIKE_AUDIO_FORMAT,\n",
    "                        rate = MIKE_AUDIO_RATE,\n",
    "                        channels=MIKE_AUDIO_CHANNEL,\n",
    "                        input_device_index=MIKE_AUDIO_DEVICE_INDEX,\n",
    "                        input =True,\n",
    "                        frames_per_buffer = MIKE_AUDIO_BUFFER_SIZE\n",
    "    )\n",
    "    return(audio,stream)\n",
    "\n",
    "def ReleaseAudio(audio, stream):\n",
    "    stream.stop_stream()\n",
    "    stream.close()\n",
    "    audio.terminate()\n",
    "\n",
    "def ReadPlotData(stream):\n",
    "    data = stream.read(10024)\n",
    "    audiodata = np.frombuffer(data, dtype='int16')\n",
    "\n",
    "    plt.plot(audiodata)\n",
    "    plt.draw()\n",
    "    plt.pause(0.001)\n",
    "    plt.cla()\n",
    "\n",
    "if __name__=='__main__':\n",
    "    (audio,stream) = GrabAudio()\n",
    "\n",
    "    while True:\n",
    "        try:\n",
    "            ReadPlotData(stream)\n",
    "        except KeyboardInterrupt:\n",
    "            break\n",
    "\n",
    "    ReleaseAudio(audio,stream)"
   ]
  },
  {
   "cell_type": "markdown",
   "metadata": {},
   "source": [
    "## Now Combine PyAudio & Google Cloud Speech (Now Editing)"
   ]
  },
  {
   "cell_type": "code",
   "execution_count": null,
   "metadata": {},
   "outputs": [],
   "source": [
    "\n",
    "from google.cloud import speech\n",
    "\n",
    "import pyaudio\n",
    "import matplotlib.pyplot as plt\n",
    "import numpy as np\n",
    "\n",
    "MIKE_AUDIO_FORMAT = pyaudio.paInt16\n",
    "MIKE_AUDIO_RATE = 44100\n",
    "MIKE_AUDIO_CHANNEL = 1\n",
    "MIKE_AUDIO_BUFFER_SIZE = 2**11\n",
    "MIKE_AUDIO_DEVICE_INDEX = 1\n",
    "\n",
    "\n",
    "config = speech.RecognitionConfig(\n",
    "    encoding=speech.RecognitionConfig.AudioEncoding.LINEAR16,\n",
    "    sample_rate_hertz=MIKE_AUDIO_RATE,\n",
    "    language_code=\"ja\"\n",
    ")\n",
    "\n",
    "stream_continue_flag = True\n",
    "\n",
    "def GrabAudio():\n",
    "    audio = pyaudio.PyAudio()\n",
    "    stream = audio.open(format = MIKE_AUDIO_FORMAT,\n",
    "                        rate = MIKE_AUDIO_RATE,\n",
    "                        channels=MIKE_AUDIO_CHANNEL,\n",
    "                        input_device_index=MIKE_AUDIO_DEVICE_INDEX,\n",
    "                        input =True,\n",
    "                        frames_per_buffer = MIKE_AUDIO_BUFFER_SIZE\n",
    "    )\n",
    "    return(audio,stream)\n",
    "\n",
    "def ReleaseAudio(audio, stream):\n",
    "    stream.stop_stream()\n",
    "    stream.close()\n",
    "    audio.terminate()\n",
    "\n",
    "def CreateSubtitles(response):\n",
    "    for result in response.results:\n",
    "        if result.is_final:\n",
    "            print(result.alternatives[0].transcript)\n",
    "        else:\n",
    "            print(\"    \", result.alternatives[0].transcript)\n",
    "    \n",
    "        if result.alternatives[0].transcript == \"エンド\":\n",
    "            stream_continue_flag = False\n",
    "\n",
    "\n",
    "\n",
    "\n",
    "\n",
    "\n",
    "if __name__=='__main__':\n",
    "\n",
    "    client = speech.SpeechClient()\n",
    "    print(\"\")\n",
    "    response = client.recognize(config=config, audio=audio)\n",
    "    "
   ]
  }
 ],
 "metadata": {
  "kernelspec": {
   "display_name": "Python 3.9.6 64-bit ('3.9.6')",
   "language": "python",
   "name": "python3"
  },
  "language_info": {
   "codemirror_mode": {
    "name": "ipython",
    "version": 3
   },
   "file_extension": ".py",
   "mimetype": "text/x-python",
   "name": "python",
   "nbconvert_exporter": "python",
   "pygments_lexer": "ipython3",
   "version": "3.9.6"
  },
  "orig_nbformat": 4,
  "vscode": {
   "interpreter": {
    "hash": "163d230e699351a2f2e787c220a9d29086771b4eebf7610a58e5c0f48317bdfa"
   }
  }
 },
 "nbformat": 4,
 "nbformat_minor": 2
}
